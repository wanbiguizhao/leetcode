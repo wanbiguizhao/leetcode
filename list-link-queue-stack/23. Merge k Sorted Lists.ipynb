{
 "cells": [
  {
   "cell_type": "code",
   "execution_count": null,
   "metadata": {},
   "outputs": [],
   "source": [
    "# Definition for singly-linked list.\n",
    "# class ListNode:\n",
    "#     def __init__(self, val=0, next=None):\n",
    "#         self.val = val\n",
    "#         self.next = next\n",
    "\n",
    "class Solution:\n",
    "    def mergeKLists(self, lists: List[ListNode]) -> ListNode:\n",
    "        def merge(alist,blist)->ListNode:\n",
    "            head=ListNode()\n",
    "            c=head\n",
    "            while alist and blist:\n",
    "                if alist.val<blist.val:\n",
    "                    c.next=alist\n",
    "                    alist=alist.next\n",
    "                else:\n",
    "                    c.next=blist\n",
    "                    blist=blist.next\n",
    "                c=c.next\n",
    "            if  alist :\n",
    "                c.next=alist\n",
    "            if  blist :\n",
    "                c.next=blist\n",
    "            return head.next\n",
    "        y=None\n",
    "        for x in lists:\n",
    "            y=merge(y,x)\n",
    "        return y\n",
    "        \n",
    "        \n",
    "class Solution2:\n",
    "    def mergeKLists(self, lists: List[ListNode]) -> ListNode:\n",
    "        def merge(alist,blist)->ListNode:\n",
    "            head=ListNode()\n",
    "            c=head\n",
    "            while alist and blist:\n",
    "                if alist.val<blist.val:\n",
    "                    c.next=alist\n",
    "                    alist=alist.next\n",
    "                else:\n",
    "                    c.next=blist\n",
    "                    blist=blist.next\n",
    "                c=c.next\n",
    "            if  alist :\n",
    "                c.next=alist\n",
    "            if  blist :\n",
    "                c.next=blist\n",
    "            return head.next\n",
    "        \n",
    "        if len(lists)==0:\n",
    "            return None\n",
    "        if len(lists)==1:\n",
    "            return lists[0]\n",
    "        mid=len(lists)//2\n",
    "        left=self.mergeKLists(list[:mid])\n",
    "        right=self.mergeKLists(list[mid:])\n",
    "        return merge(left,right)"
   ]
  },
  {
   "cell_type": "markdown",
   "metadata": {},
   "source": [
    "1. 把这个问题当成两个链表，两个链表的问题去求解。\n",
    "这种算法时间复杂度非常高。\n",
    "2. 使用空间复杂度换取时间，拆分成子问题，然后再求解。"
   ]
  }
 ],
 "metadata": {
  "kernelspec": {
   "display_name": "Python 3",
   "language": "python",
   "name": "python3"
  },
  "language_info": {
   "codemirror_mode": {
    "name": "ipython",
    "version": 3
   },
   "file_extension": ".py",
   "mimetype": "text/x-python",
   "name": "python",
   "nbconvert_exporter": "python",
   "pygments_lexer": "ipython3",
   "version": "3.6.9"
  }
 },
 "nbformat": 4,
 "nbformat_minor": 4
}
