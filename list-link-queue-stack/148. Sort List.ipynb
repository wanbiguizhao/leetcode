{
 "cells": [
  {
   "cell_type": "code",
   "execution_count": 1,
   "metadata": {},
   "outputs": [
    {
     "ename": "NameError",
     "evalue": "name 'ListNode' is not defined",
     "output_type": "error",
     "traceback": [
      "\u001b[0;31m---------------------------------------------------------------------------\u001b[0m",
      "\u001b[0;31mNameError\u001b[0m                                 Traceback (most recent call last)",
      "\u001b[0;32m<ipython-input-1-92129b6a6a69>\u001b[0m in \u001b[0;36m<module>\u001b[0;34m\u001b[0m\n\u001b[1;32m      4\u001b[0m \u001b[0;31m#         self.val = val\u001b[0m\u001b[0;34m\u001b[0m\u001b[0;34m\u001b[0m\u001b[0;34m\u001b[0m\u001b[0m\n\u001b[1;32m      5\u001b[0m \u001b[0;31m#         self.next = next\u001b[0m\u001b[0;34m\u001b[0m\u001b[0;34m\u001b[0m\u001b[0;34m\u001b[0m\u001b[0m\n\u001b[0;32m----> 6\u001b[0;31m \u001b[0;32mclass\u001b[0m \u001b[0mSolution\u001b[0m\u001b[0;34m:\u001b[0m\u001b[0;34m\u001b[0m\u001b[0;34m\u001b[0m\u001b[0m\n\u001b[0m\u001b[1;32m      7\u001b[0m     \u001b[0;32mdef\u001b[0m \u001b[0msortList\u001b[0m\u001b[0;34m(\u001b[0m\u001b[0mself\u001b[0m\u001b[0;34m,\u001b[0m \u001b[0mhead\u001b[0m\u001b[0;34m:\u001b[0m \u001b[0mListNode\u001b[0m\u001b[0;34m)\u001b[0m \u001b[0;34m->\u001b[0m \u001b[0mListNode\u001b[0m\u001b[0;34m:\u001b[0m\u001b[0;34m\u001b[0m\u001b[0;34m\u001b[0m\u001b[0m\n\u001b[1;32m      8\u001b[0m         \u001b[0;32mdef\u001b[0m \u001b[0mmerge\u001b[0m\u001b[0;34m(\u001b[0m\u001b[0ml1\u001b[0m\u001b[0;34m,\u001b[0m\u001b[0ml2\u001b[0m\u001b[0;34m)\u001b[0m\u001b[0;34m:\u001b[0m\u001b[0;34m\u001b[0m\u001b[0;34m\u001b[0m\u001b[0m\n",
      "\u001b[0;32m<ipython-input-1-92129b6a6a69>\u001b[0m in \u001b[0;36mSolution\u001b[0;34m()\u001b[0m\n\u001b[1;32m      5\u001b[0m \u001b[0;31m#         self.next = next\u001b[0m\u001b[0;34m\u001b[0m\u001b[0;34m\u001b[0m\u001b[0;34m\u001b[0m\u001b[0m\n\u001b[1;32m      6\u001b[0m \u001b[0;32mclass\u001b[0m \u001b[0mSolution\u001b[0m\u001b[0;34m:\u001b[0m\u001b[0;34m\u001b[0m\u001b[0;34m\u001b[0m\u001b[0m\n\u001b[0;32m----> 7\u001b[0;31m     \u001b[0;32mdef\u001b[0m \u001b[0msortList\u001b[0m\u001b[0;34m(\u001b[0m\u001b[0mself\u001b[0m\u001b[0;34m,\u001b[0m \u001b[0mhead\u001b[0m\u001b[0;34m:\u001b[0m \u001b[0mListNode\u001b[0m\u001b[0;34m)\u001b[0m \u001b[0;34m->\u001b[0m \u001b[0mListNode\u001b[0m\u001b[0;34m:\u001b[0m\u001b[0;34m\u001b[0m\u001b[0;34m\u001b[0m\u001b[0m\n\u001b[0m\u001b[1;32m      8\u001b[0m         \u001b[0;32mdef\u001b[0m \u001b[0mmerge\u001b[0m\u001b[0;34m(\u001b[0m\u001b[0ml1\u001b[0m\u001b[0;34m,\u001b[0m\u001b[0ml2\u001b[0m\u001b[0;34m)\u001b[0m\u001b[0;34m:\u001b[0m\u001b[0;34m\u001b[0m\u001b[0;34m\u001b[0m\u001b[0m\n\u001b[1;32m      9\u001b[0m             \u001b[0mhead\u001b[0m\u001b[0;34m=\u001b[0m\u001b[0mListNode\u001b[0m\u001b[0;34m(\u001b[0m\u001b[0;34m)\u001b[0m\u001b[0;34m\u001b[0m\u001b[0;34m\u001b[0m\u001b[0m\n",
      "\u001b[0;31mNameError\u001b[0m: name 'ListNode' is not defined"
     ]
    }
   ],
   "source": [
    "# Definition for singly-linked list.\n",
    "# class ListNode:\n",
    "#     def __init__(self, val=0, next=None):\n",
    "#         self.val = val\n",
    "#         self.next = next\n",
    "class Solution:\n",
    "    def sortList(self, head: ListNode) -> ListNode:\n",
    "        def merge(l1,l2):\n",
    "            headx=ListNode()\n",
    "            p=headx\n",
    "            while l1 and l2:\n",
    "                if l1.val<l2.val:\n",
    "                    p.next=l1\n",
    "                    l1=l1.next\n",
    "                else :\n",
    "                    p.next=l2\n",
    "                    l2=l2.next\n",
    "                p=p.next\n",
    "            if l1:\n",
    "                p.next=l1\n",
    "            if l2:\n",
    "                p.next=l2\n",
    "            return headx.next\n",
    "        \n",
    "        if not head or not head.next:\n",
    "            return head\n",
    "        fast=head.next\n",
    "        slow=head\n",
    "        while fast and fast.next:\n",
    "            fast=fast.next.next\n",
    "            slow=slow.next\n",
    "        mid=slow.next\n",
    "        slow.next=None\n",
    "        return merge(self.sortList(head),self.sortList(mid))"
   ]
  },
  {
   "cell_type": "markdown",
   "metadata": {},
   "source": [
    "算法就是典型的归并算法。加递归思想，加快慢指针。\n",
    "典型的自顶向下的算法。  我之前一直在使用自底向上的算法。 一定要建立这种发撒性的思维模式。\n",
    "和之前的真的不一样\n",
    "1. 先使用快慢指针把链表一分为2.\n",
    "2. 变成两个子问题。\n",
    "3. 关键在于fast和slow，最开始并不是指向的同一个节点。 fast 要向后一个节点，保证链表一分为2时，不会产生第二个为空情况，否则会出现死循环。\n",
    "4. 这种算法的关键思想在于从哪里劈开这个链表，是从slow处还是从哪里slow代表这头结点。\n",
    "核心思想在于：不要让一分为2中，一个自链表出现空的情况。\n",
    "\n",
    "\n",
    "\n",
    "\n",
    "\n"
   ]
  },
  {
   "cell_type": "code",
   "execution_count": null,
   "metadata": {},
   "outputs": [],
   "source": [
    "# Definition for singly-linked list.\n",
    "# class ListNode:\n",
    "#     def __init__(self, val=0, next=None):\n",
    "#         self.val = val\n",
    "#         self.next = next\n",
    "class Solution:\n",
    "    def sortList(self, head: ListNode) -> ListNode:\n",
    "        def merge(l1,l2):\n",
    "            headx=ListNode()\n",
    "            p=headx\n",
    "            while l1 and l2:\n",
    "                if l1.val<l2.val:\n",
    "                    p.next=l1\n",
    "                    l1=l1.next\n",
    "                else :\n",
    "                    p.next=l2\n",
    "                    l2=l2.next\n",
    "                p=p.next\n",
    "            if l1:\n",
    "                p.next=l1\n",
    "            if l2:\n",
    "                p.next=l2\n",
    "            return headx.next\n",
    "        \n",
    "        if not head or not head.next:\n",
    "            return head\n",
    "        helper_header=ListNode()\n",
    "        helper_header.next=head\n",
    "        fast=helper_header\n",
    "        slow=helper_header\n",
    "        while fast and fast.next:\n",
    "            fast=fast.next.next\n",
    "            slow=slow.next\n",
    "        mid=slow.next\n",
    "        slow.next=None\n",
    "        return merge(self.sortList(helper_header.next),self.sortList(mid))"
   ]
  }
 ],
 "metadata": {
  "kernelspec": {
   "display_name": "Python 3",
   "language": "python",
   "name": "python3"
  },
  "language_info": {
   "codemirror_mode": {
    "name": "ipython",
    "version": 3
   },
   "file_extension": ".py",
   "mimetype": "text/x-python",
   "name": "python",
   "nbconvert_exporter": "python",
   "pygments_lexer": "ipython3",
   "version": "3.6.9"
  }
 },
 "nbformat": 4,
 "nbformat_minor": 4
}
