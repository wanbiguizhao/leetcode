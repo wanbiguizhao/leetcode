{
 "cells": [
  {
   "cell_type": "code",
   "execution_count": null,
   "metadata": {},
   "outputs": [],
   "source": [
    "# Definition for singly-linked list.\n",
    "# class ListNode:\n",
    "#     def __init__(self, val=0, next=None):\n",
    "#         self.val = val\n",
    "#         self.next = next\n",
    "class Solution:\n",
    "    def removeNthFromEnd(self, head: ListNode, n: int) -> ListNode:\n",
    "        tmp_head=ListNode()\n",
    "        tmp_head.next=head\n",
    "        help_node=head\n",
    "        target_node=head\n",
    "        pre_node=tmp_head\n",
    "        while n>0:\n",
    "            help_node=help_node.next\n",
    "            n=n-1\n",
    "        while help_node:\n",
    "            help_node=help_node.next\n",
    "            pre_node=pre_node.next\n",
    "            target_node=target_node.next\n",
    "        pre_node.next=target_node.next\n",
    "        return tmp_head.next\n"
   ]
  },
  {
   "cell_type": "markdown",
   "metadata": {},
   "source": [
    "核心算法：\n",
    "1. 指针A指向头结点，向后走n个节点。\n",
    "2. 此时指针B指向头结点。C指向B的前驱。\n",
    "3. A，B，C依次向前，当A为空时。B是删除的节点。C是B的前驱。\n",
    "4. 一个小技巧是：初始化一个头结点。C指向头结点。\n",
    "5. 异常情况？n<0 n>len(linklist)\n",
    "测试用例：\n",
    "1. [1] 1\n",
    "2. [1,2] 2 \n",
    "3. [1,2] 1 \n",
    "4 [1,2,3] 2"
   ]
  }
 ],
 "metadata": {
  "kernelspec": {
   "display_name": "Python 3",
   "language": "python",
   "name": "python3"
  },
  "language_info": {
   "codemirror_mode": {
    "name": "ipython",
    "version": 3
   },
   "file_extension": ".py",
   "mimetype": "text/x-python",
   "name": "python",
   "nbconvert_exporter": "python",
   "pygments_lexer": "ipython3",
   "version": "3.6.9"
  }
 },
 "nbformat": 4,
 "nbformat_minor": 4
}
