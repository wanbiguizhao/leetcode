{
 "cells": [
  {
   "cell_type": "markdown",
   "metadata": {},
   "source": [
    "给一个数字nums，给定一个数字target，希望做以下操作。"
   ]
  },
  {
   "cell_type": "markdown",
   "metadata": {},
   "source": [
    "1. 当nums严格递增时，找到target的索引，没有返回-1\n"
   ]
  },
  {
   "cell_type": "code",
   "execution_count": null,
   "metadata": {},
   "outputs": [],
   "source": [
    "def binary_search(nums,target):\n",
    "    if not nums:\n",
    "        return -1\n",
    "    low=0\n",
    "    high=len(nums)-1\n",
    "    # 当前的搜索区间是：current search interval is [low,high]\n",
    "    while low <=high:\n",
    "        mid=low+(high-low)//2\n",
    "        if nums[mid]==target:\n",
    "            return mid\n",
    "        elif nums[mid]>target:\n",
    "                hight=mid-1\n",
    "        else:\n",
    "            low=mid+1\n",
    "    return -1\n",
    "nums=[]\n",
    "assert -1==binary_search(nums,1)\n",
    "nums=[1]\n",
    "assert 0==binary_search(nums,1)\n",
    "assert -1==binary_search(nums,2)\n",
    "assert -1==binary_search(nums,0)\n",
    "nums=[1,2,3]\n",
    "assert 1==binary_search(nums,2)\n",
    "assert -1==binary_search(nums,0)\n",
    "assert -1==binary_search(nums,4)"
   ]
  },
  {
   "cell_type": "markdown",
   "metadata": {},
   "source": [
    "2. 当nums不是严格递增时，找到最左侧的target的索引。"
   ]
  },
  {
   "cell_type": "code",
   "execution_count": null,
   "metadata": {},
   "outputs": [],
   "source": [
    "def binary_search_left(nums,target):\n",
    "    if not nums:\n",
    "        return -1\n",
    "    low=0\n",
    "    high=len(nums)\n",
    "    # 当前的搜索区间是，current search interval is [low,high)\n",
    "    while low<high:\n",
    "        mid=low+(high-low)//2\n",
    "        if nums[mid]==target:\n",
    "            right=mid\n",
    "        elif nums[mid]<target:\n",
    "            low=mid+1\n",
    "        else:\n",
    "            high=mid\n",
    "    if low==len(nums): # 情况1是target >nums\n",
    "        return -1\n",
    "    if low==0 and nums[low]!=target: # 情况2 是target\n",
    "        return -1\n",
    "    return low\n",
    "\n",
    "nums=[1,1,3]\n",
    "assert -1==binary_search_left(nums,0)\n",
    "assert -1==binary_search_left(nums,4)\n",
    "assert 0==binary_search_left(nums,1)\n"
   ]
  },
  {
   "cell_type": "markdown",
   "metadata": {},
   "source": [
    "3. 当nums不是严格递增时，找最右侧target的索引。"
   ]
  },
  {
   "cell_type": "code",
   "execution_count": 5,
   "metadata": {},
   "outputs": [],
   "source": [
    "def binary_search_right(nums,target):\n",
    "    if not nums:\n",
    "        return -1\n",
    "    low=0\n",
    "    high=len(nums)\n",
    "    while low<high:\n",
    "        mid=low+(high-low)//2\n",
    "        if nums[mid]==target:\n",
    "            low=mid+1\n",
    "        elif nums[mid]<target:\n",
    "            low=mid+1\n",
    "        else:\n",
    "            high=mid\n",
    "    if low==len(nums):\n",
    "        return -1\n",
    "    if low==0 and nums[low]!=target: \n",
    "        return -1\n",
    "    \n",
    "    return low - 1 # 核心的关键题眼睛是low要-1\n",
    "nums=[]\n",
    "assert -1==binary_search_right(nums,0)\n",
    "\n",
    "nums=[1,1,3]\n",
    "assert -1==binary_search_right(nums,0)\n",
    "assert -1==binary_search_right(nums,4)\n",
    "assert 1==binary_search_right(nums,1)\n",
    "            "
   ]
  },
  {
   "cell_type": "markdown",
   "metadata": {},
   "source": [
    "4. 无论nums是不是严格递增区间，给定一个target，找到一个数字的索引，要求这个数字在整个nums中，是小于target的最大值。[1,2,4,7] target 是5 ，返回的是4.\n"
   ]
  },
  {
   "cell_type": "code",
   "execution_count": 1,
   "metadata": {},
   "outputs": [
    {
     "name": "stdout",
     "output_type": "stream",
     "text": [
      "0 0 1\n",
      "1 1 1\n",
      "0 0 1\n",
      "1 1 2\n",
      "4 4 4\n",
      "4 4 5\n",
      "5 5 5\n"
     ]
    }
   ],
   "source": [
    "def binary_search_low_bounder(nums ,target):\n",
    "    if not nums:\n",
    "        return -1\n",
    "    pos=len(nums)\n",
    "    low=0\n",
    "    high=pos\n",
    "    while low<high:\n",
    "        mid=low+(high-low)//2\n",
    "        if nums[mid]==target:\n",
    "            high=mid\n",
    "        elif nums[mid]>target:\n",
    "            high=mid\n",
    "            pos=high\n",
    "        else:\n",
    "            low=mid+1\n",
    "    print(low,high,pos)\n",
    "    if low<len(nums):\n",
    "        if  nums[low]>=target:\n",
    "            pos=low\n",
    "    # else:\n",
    "    #     if nums[-1]<=target:\n",
    "    #         return len(nums)-1\n",
    "    #     return pos-1\n",
    "    return pos-1\n",
    "\n",
    "nums=[]\n",
    "assert -1==binary_search_low_bounder(nums,0)\n",
    "nums=[1]\n",
    "assert -1==binary_search_low_bounder(nums,1)\n",
    "assert 0==binary_search_low_bounder(nums,2)\n",
    "nums=[1,2,3,4,6]\n",
    "assert -1==binary_search_low_bounder(nums,1)\n",
    "assert 0==binary_search_low_bounder(nums,2)\n",
    "assert 3==binary_search_low_bounder(nums,5)\n",
    "assert 3==binary_search_low_bounder(nums,6)\n",
    "assert 4==binary_search_low_bounder(nums,7)\n",
    "    \n"
   ]
  },
  {
   "cell_type": "code",
   "execution_count": null,
   "metadata": {},
   "outputs": [],
   "source": []
  },
  {
   "cell_type": "code",
   "execution_count": null,
   "metadata": {},
   "outputs": [],
   "source": []
  }
 ],
 "metadata": {
  "kernelspec": {
   "display_name": "Python 3",
   "language": "python",
   "name": "python3"
  },
  "language_info": {
   "codemirror_mode": {
    "name": "ipython",
    "version": 3
   },
   "file_extension": ".py",
   "mimetype": "text/x-python",
   "name": "python",
   "nbconvert_exporter": "python",
   "pygments_lexer": "ipython3",
   "version": "3.6.2"
  }
 },
 "nbformat": 4,
 "nbformat_minor": 4
}
