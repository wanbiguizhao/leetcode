{
 "cells": [
  {
   "cell_type": "code",
   "execution_count": null,
   "metadata": {},
   "outputs": [],
   "source": [
    "\n",
    "from typing import List\n",
    "class Solution:\n",
    "    def kthSmallest(self, matrix: List[List[int]], k: int) -> int:\n",
    "        left=matrix[0][0]\n",
    "        right=matrix[-1][-1]\n",
    "        while left<right:\n",
    "            mid=(left+right)//2\n",
    "            cnt=0\n",
    "            for row in matrix:\n",
    "                cnt+=upper_bound(row,mid)\n",
    "            if cnt<k:\n",
    "                left=mid+1\n",
    "            else:\n",
    "                right=mid\n",
    "        return left\n",
    "                \n",
    "    \n",
    "    \n",
    "def upper_bound( nums ,target):\n",
    "    \"\"\"\n",
    "    非递减数组中，小于等于target的元素个数\n",
    "    \"\"\"\n",
    "    low,high=0,len(nums)-1\n",
    "    pos=len(nums)\n",
    "    while low<high:\n",
    "        mid=(low+high)//2\n",
    "        print(low,high,mid)\n",
    "        if nums[mid]<=target:\n",
    "            low=mid+1\n",
    "        else:\n",
    "            high=mid\n",
    "            pos=high\n",
    "    if nums[low]>target:\n",
    "        pos=low\n",
    "    return pos"
   ]
  },
  {
   "cell_type": "code",
   "execution_count": null,
   "metadata": {},
   "outputs": [],
   "source": [
    "1. 典型的双指针算法。\n",
    "2. 从左侧和右侧进行搜索。\n",
    "3. 每次都算出来一个mid。\n",
    "4. 然后根据mid计算出来，一共有多少个数字<mid\n",
    "5. 小于mid的数字等于k的时候。\n",
    "6. mid的数值就要进行收缩了，如何保证mid收缩的数值正好是矩阵里面的数字？"
   ]
  }
 ],
 "metadata": {
  "kernelspec": {
   "display_name": "Python 3",
   "language": "python",
   "name": "python3"
  },
  "language_info": {
   "codemirror_mode": {
    "name": "ipython",
    "version": 3
   },
   "file_extension": ".py",
   "mimetype": "text/x-python",
   "name": "python",
   "nbconvert_exporter": "python",
   "pygments_lexer": "ipython3",
   "version": "3.6.2"
  }
 },
 "nbformat": 4,
 "nbformat_minor": 4
}
